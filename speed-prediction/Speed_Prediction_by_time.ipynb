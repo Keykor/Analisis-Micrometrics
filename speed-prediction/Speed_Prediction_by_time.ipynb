{
 "cells": [
  {
   "cell_type": "markdown",
   "metadata": {},
   "source": [
    "Calcula la suma y multiplicación de las velocidades para cada muestra en diferentes cortes de eventos"
   ]
  },
  {
   "cell_type": "code",
   "execution_count": null,
   "metadata": {},
   "outputs": [],
   "source": [
    "import pandas as pd\n",
    "from pathlib import Path\n",
    "import os\n",
    "\n",
    "def calculate(filename):\n",
    "    directory = os.path.join(Path().absolute(), \"speed-prediction-logs\")\n",
    "    path = os.path.join(directory, \"TimeWindow\")\n",
    "    path = os.path.join(path, filename + \".csv\")\n",
    "    df = pd.read_csv(path)\n",
    "\n",
    "    df = df.fillna(0)\n",
    "    \n",
    "    df[\"sum\" + filename] = df[\"avgSpeedPerTest\"] + df[\"avgIntratecla\"] + df[\"avgScrollSpeed\"]\n",
    "    df[\"mul\" + filename] = df[\"avgSpeedPerTest\"] * df[\"avgIntratecla\"] * df[\"avgScrollSpeed\"]\n",
    "\n",
    "    column_names = df.columns.values.tolist()\n",
    "    column_names.remove('name')\n",
    "    column_names.remove(\"sum\" + filename)\n",
    "    column_names.remove(\"mul\" + filename)\n",
    "    for name in column_names:\n",
    "        df.pop(name)\n",
    "    \n",
    "    return df\n",
    "\n",
    "directory = os.path.join(Path().absolute(), \"speed-prediction-logs\")\n",
    "path = os.path.join(directory, \"TimeWindow\")\n",
    "path = os.path.join(path, str(120000) + \".csv\")\n",
    "df = pd.read_csv(path)\n",
    "\n",
    "logs = range(5000,121000,5000)\n",
    "for name in logs:\n",
    "    df = df.merge(right=calculate(str(name)), on='name', how='left')\n",
    "\n",
    "speed_df = df.copy(deep=True)\n",
    "\n",
    "for name in logs:\n",
    "    name = str(name)\n",
    "    df[\"sum\"+name] = df[\"sum\"+name]  / df[\"sum120000\"]\n",
    "    df[\"mul\"+name] = df[\"mul\"+name]  / df[\"mul120000\"]\n",
    "\n",
    "speed_df_norm = df\n",
    "#speed_df_norm.to_csv('speed_prediction_normalized.csv')"
   ]
  },
  {
   "cell_type": "code",
   "execution_count": null,
   "metadata": {},
   "outputs": [],
   "source": [
    "speed_df"
   ]
  },
  {
   "cell_type": "markdown",
   "metadata": {},
   "source": [
    "Observar los números calculados por suma"
   ]
  },
  {
   "cell_type": "code",
   "execution_count": null,
   "metadata": {},
   "outputs": [],
   "source": [
    "def remove_columns_that_starts_with(df, prefix):\n",
    "    column_names = df.columns.values.tolist()\n",
    "    for name in column_names:\n",
    "        if name.startswith(prefix):\n",
    "            df.pop(name)\n",
    "    return df\n",
    "\n",
    "speed_df_only_sum = speed_df.copy(deep=True)\n",
    "speed_df_only_sum = remove_columns_that_starts_with(speed_df_only_sum, \"mul\")\n",
    "speed_df_only_sum"
   ]
  },
  {
   "cell_type": "code",
   "execution_count": null,
   "metadata": {},
   "outputs": [],
   "source": [
    "speed_df_only_sum.describe()"
   ]
  },
  {
   "cell_type": "markdown",
   "metadata": {},
   "source": [
    "Ver cuanto se acercan los valores de la suma al final"
   ]
  },
  {
   "cell_type": "code",
   "execution_count": null,
   "metadata": {},
   "outputs": [],
   "source": [
    "df_test = speed_df_only_sum.copy(deep=True)\n",
    "column_names = df_test.columns.values.tolist()\n",
    "for name in column_names:\n",
    "    if \"120000\" in name:\n",
    "        continue\n",
    "    if name.startswith(\"sum\"):\n",
    "        amount = name.replace(\"sum\",\"\")\n",
    "        amount = int(amount)\n",
    "        df_test.loc[amount > df[\"timePerTest\"], name] = None\n",
    "\n",
    "        df_test[name] = df_test[name] / df_test[\"sum120000\"]\n",
    "\n",
    "def remove_columns_that_dont_have(df, word):\n",
    "    column_names = df.columns.values.tolist()\n",
    "    for name in column_names:\n",
    "        if word not in name:\n",
    "            df.pop(name)\n",
    "    return df\n",
    "\n",
    "df_test = remove_columns_that_dont_have(df_test, \"sum\")\n",
    "df_test"
   ]
  },
  {
   "cell_type": "code",
   "execution_count": null,
   "metadata": {},
   "outputs": [],
   "source": [
    "df_test.describe()"
   ]
  }
 ],
 "metadata": {
  "kernelspec": {
   "display_name": "Python 3.8.10 64-bit",
   "language": "python",
   "name": "python3"
  },
  "language_info": {
   "codemirror_mode": {
    "name": "ipython",
    "version": 3
   },
   "file_extension": ".py",
   "mimetype": "text/x-python",
   "name": "python",
   "nbconvert_exporter": "python",
   "pygments_lexer": "ipython3",
   "version": "3.8.10"
  },
  "orig_nbformat": 4,
  "vscode": {
   "interpreter": {
    "hash": "916dbcbb3f70747c44a77c7bcd40155683ae19c65e1c03b4aa3499c5328201f1"
   }
  }
 },
 "nbformat": 4,
 "nbformat_minor": 2
}
