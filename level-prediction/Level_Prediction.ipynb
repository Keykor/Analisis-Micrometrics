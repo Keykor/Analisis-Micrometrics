{
  "cells": [
    {
      "cell_type": "markdown",
      "id": "8c90bb68",
      "metadata": {
        "id": "8c90bb68"
      },
      "source": [
        "### Lectura de datos ###"
      ]
    },
    {
      "cell_type": "code",
      "execution_count": null,
      "id": "b342f348",
      "metadata": {
        "id": "b342f348"
      },
      "outputs": [],
      "source": [
        "import pandas as pd\n",
        "df = pd.read_json(\"raw_logs.json\")"
      ]
    },
    {
      "cell_type": "markdown",
      "id": "QFbrzX2awve5",
      "metadata": {
        "id": "QFbrzX2awve5"
      },
      "source": [
        "### Filtrado de datos ###"
      ]
    },
    {
      "cell_type": "markdown",
      "id": "985f2928",
      "metadata": {
        "id": "985f2928"
      },
      "source": [
        "Filtra los logs que no posean nivel"
      ]
    },
    {
      "cell_type": "code",
      "execution_count": null,
      "id": "2387f039",
      "metadata": {
        "colab": {
          "base_uri": "https://localhost:8080/",
          "height": 364
        },
        "id": "2387f039",
        "outputId": "aa2e30f0-ff41-4ec9-9439-eb7fd45bb5b8"
      },
      "outputs": [],
      "source": [
        "df_filtrado = df.fillna(0)\n",
        "df_filtrado = df_filtrado[df_filtrado[\"level\"] > 0]\n",
        "df_filtrado\n",
        "df_filtrado.describe()"
      ]
    },
    {
      "cell_type": "markdown",
      "id": "efd08480",
      "metadata": {
        "id": "efd08480"
      },
      "source": [
        "Filtrado de outlayers de forma visual"
      ]
    },
    {
      "cell_type": "code",
      "execution_count": null,
      "id": "1dd03552",
      "metadata": {
        "colab": {
          "base_uri": "https://localhost:8080/",
          "height": 1000
        },
        "id": "1dd03552",
        "outputId": "e88117a6-9784-47f6-cac1-98a68c75054b"
      },
      "outputs": [],
      "source": [
        "df_filtrado = df.fillna(0)\n",
        "df_filtrado = df_filtrado[df_filtrado[\"level\"] > 0]\n",
        "\n",
        "df_filtrado = df_filtrado[df_filtrado[\"avgFocusDuration\"] < 2500]\n",
        "\n",
        "#avgPauseDuration > 0\n",
        "df_filtrado = df_filtrado[df_filtrado[\"avgPauseDuration\"] > 0]\n",
        "#avgPauseDuration < 8000\n",
        "df_filtrado = df_filtrado[df_filtrado[\"avgPauseDuration\"] < 8000]\n",
        "\n",
        "#avgSpeedPerTest < 0.23\n",
        "df_filtrado = df_filtrado[df_filtrado[\"avgSpeedPerTest\"] < 0.23]\n",
        "\n",
        "#clicksPerTest < 70\n",
        "df_filtrado = df_filtrado[df_filtrado[\"clicksPerTest\"] < 70]\n",
        "\n",
        "#timePerTest < 400000\n",
        "df_filtrado = df_filtrado[df_filtrado[\"timePerTest\"] < 400000]\n",
        "\n",
        "#totalPauses < 24\n",
        "df_filtrado = df_filtrado[df_filtrado[\"totalPauses\"] < 24]\n",
        "\n",
        "#avgScrollSpeed < 0.13\n",
        "df_filtrado = df_filtrado[df_filtrado[\"avgScrollSpeed\"]  < 0.13]\n",
        "\n",
        "#avgIntraTecla < 2000\n",
        "df_filtrado = df_filtrado[df_filtrado[\"avgIntratecla\"] < 2000]\n",
        "\n",
        "#totalBorrado < 15\n",
        "df_filtrado = df_filtrado[df_filtrado[\"totalBorrado\"] < 15]\n",
        "\n",
        "df_filtrado.describe()\n",
        "\n",
        "pd.plotting.scatter_matrix(df_filtrado, figsize=(50,50))"
      ]
    },
    {
      "cell_type": "code",
      "execution_count": null,
      "id": "2f8d8749",
      "metadata": {},
      "outputs": [],
      "source": [
        "import matplotlib.pyplot as plt\n",
        "\n",
        "column_names = df_filtrado.columns.values.tolist()\n",
        "column_names.remove('name')\n",
        "\n",
        "for col in column_names:\n",
        "    df_filtrado.boxplot(column=[col], figsize=(10,10))\n",
        "    plt.show()"
      ]
    },
    {
      "cell_type": "markdown",
      "id": "cfd7cb96",
      "metadata": {},
      "source": [
        "Análisis de outliers con distancia de Mahalanobis"
      ]
    },
    {
      "cell_type": "code",
      "execution_count": null,
      "id": "590cf9d9",
      "metadata": {},
      "outputs": [],
      "source": [
        "import numpy as np\n",
        "from scipy.stats import chi2\n",
        "\n",
        "df_mahalanobis = df_filtrado.copy()\n",
        "df_mahalanobis.pop(\"name\")\n",
        "df_mahalanobis = df_mahalanobis.to_numpy()\n",
        "\n",
        "# Matriz de covarianza\n",
        "covariance = np.cov(df_mahalanobis, rowvar=False)\n",
        "\n",
        "# Matriz de covarianza a la potencia de -1\n",
        "covariance_pm1 = np.linalg.matrix_power(covariance, -1)\n",
        "\n",
        "# Punto central\n",
        "centerpoint = np.mean(df_mahalanobis, axis=0)\n",
        "\n",
        "distances = []\n",
        "for i, val in enumerate(df_mahalanobis):\n",
        "    p1 = val\n",
        "    p2 = centerpoint\n",
        "    distance = (p1-p2).T.dot(covariance_pm1).dot(p1-p2)\n",
        "    distances.append(distance)\n",
        "distances = np.array(distances)\n",
        "\n",
        "# valor de corde de distribucion ji-cuadrada para detectar anomalias\n",
        "cutoff = chi2.ppf(0.95, df_mahalanobis.shape[1])\n",
        "print(cutoff)\n",
        "\n",
        "# indice de los outliers\n",
        "outlierIndexes = np.where(distances > cutoff)\n",
        "\n",
        "print('--- Indices de outliers ---')\n",
        "print(outlierIndexes)\n",
        "\n",
        "print('--- Muestras encontradas como outliers ---')\n",
        "print(df_mahalanobis[distances > cutoff, :])\n",
        "\n",
        "df_mahalanobis\n",
        "\n",
        "# falta remover los outliers encontrados de la muestra de datos"
      ]
    },
    {
      "cell_type": "markdown",
      "id": "b2a4b2bf",
      "metadata": {},
      "source": [
        "Análisis y normalización de velocidades"
      ]
    },
    {
      "cell_type": "code",
      "execution_count": null,
      "id": "e8505517",
      "metadata": {},
      "outputs": [],
      "source": [
        "def remove_outliers(df, value):\n",
        "    df = df.copy()\n",
        "    Q1 = df[value].quantile(0.25)\n",
        "    Q3 = df[value].quantile(0.75)\n",
        "    IQR = Q3 - Q1 \n",
        "    filter = (df[value] >= Q1 - 1.5 * IQR) & (df[value] <= Q3 + 1.5 *IQR)\n",
        "    return df.loc[filter]      \n",
        "\n",
        "df_normalized = df_filtrado.copy()\n",
        "column_names = df_filtrado.columns.values.tolist()\n",
        "column_names.remove('avgSpeedPerTest')\n",
        "column_names.remove('avgIntratecla')\n",
        "column_names.remove('avgScrollSpeed')\n",
        "column_names.remove('level')\n",
        "\n",
        "for name in column_names:\n",
        "    df_normalized.pop(name)\n",
        "\n",
        "df_normalized = df_normalized[df_normalized[\"avgScrollSpeed\"] > 0]\n",
        "\n",
        "df_normalized = remove_outliers(df_normalized, 'avgSpeedPerTest')\n",
        "df_normalized = remove_outliers(df_normalized, 'avgIntratecla')\n",
        "df_normalized = remove_outliers(df_normalized, 'avgScrollSpeed')\n",
        "\n",
        "for column in df_normalized.columns:\n",
        "    if (column == \"level\"):\n",
        "        continue\n",
        "    df_normalized[column] = df_normalized[column]  / df_normalized[column].abs().max()\n",
        "\n",
        "print(df_normalized.describe())\n",
        "df_normalized.boxplot(figsize=(15,15))\n",
        "\n",
        "import os\n",
        "from pathlib import Path\n",
        "filepath = os.path.join(Path().absolute(), 'df_normalized.csv')\n",
        "df_normalized.to_csv(filepath)"
      ]
    },
    {
      "cell_type": "markdown",
      "id": "af6c5474",
      "metadata": {
        "id": "af6c5474"
      },
      "source": [
        "### Elección de métricas ###"
      ]
    },
    {
      "cell_type": "markdown",
      "id": "9e68ceaf",
      "metadata": {},
      "source": [
        "Ejecutar solo uno de los siguientes códigos para elegir qué datos se utilizaran en los entrenamientos siguientes"
      ]
    },
    {
      "cell_type": "markdown",
      "id": "ae877554",
      "metadata": {},
      "source": [
        "- Elegir datos filtrados visualmente"
      ]
    },
    {
      "cell_type": "code",
      "execution_count": null,
      "id": "0739826b",
      "metadata": {
        "id": "0739826b"
      },
      "outputs": [],
      "source": [
        "feature_cols = df_filtrado.columns.values.tolist()\n",
        "feature_cols.remove('name')\n",
        "feature_cols.remove('level')\n",
        "\n",
        "X_df = df_filtrado.loc[:, feature_cols]\n",
        "X_df.shape\n",
        "\n",
        "y = df_filtrado['level']\n",
        "y.shape\n",
        "\n",
        "X = X_df.to_numpy()\n",
        "y = y.to_numpy()"
      ]
    },
    {
      "cell_type": "markdown",
      "id": "31b940bd",
      "metadata": {},
      "source": [
        "- Elegir solo velocidades normalizadas"
      ]
    },
    {
      "cell_type": "code",
      "execution_count": null,
      "id": "0739826b",
      "metadata": {
        "id": "0739826b"
      },
      "outputs": [],
      "source": [
        "feature_cols = df_normalized.columns.values.tolist()\n",
        "feature_cols.remove('level')\n",
        "\n",
        "X_df = df_normalized.loc[:, feature_cols]\n",
        "X_df.shape\n",
        "\n",
        "y = df_normalized['level']\n",
        "y.shape\n",
        "\n",
        "X = X_df.to_numpy()\n",
        "y = y.to_numpy()"
      ]
    },
    {
      "cell_type": "markdown",
      "id": "18d2219d",
      "metadata": {},
      "source": [
        "- Elegir datos filtrados por Mahalanobis (proximamente)"
      ]
    },
    {
      "cell_type": "markdown",
      "id": "rTdOqEEmt_Zy",
      "metadata": {
        "id": "rTdOqEEmt_Zy"
      },
      "source": [
        "### Definición de ModelWrapper y entrenamiento KFold ###"
      ]
    },
    {
      "cell_type": "code",
      "execution_count": null,
      "id": "b8aef4f3",
      "metadata": {
        "id": "b8aef4f3"
      },
      "outputs": [],
      "source": [
        "import numpy as np\n",
        "from sklearn.model_selection import RepeatedStratifiedKFold\n",
        "from sklearn.preprocessing import StandardScaler\n",
        "from abc import ABC, abstractclassmethod\n",
        "\n",
        "class ModelWrapper(ABC):\n",
        "    @abstractclassmethod\n",
        "    def evaluate(self, x, y):\n",
        "        pass\n",
        "\n",
        "    @abstractclassmethod\n",
        "    def metrics(self):\n",
        "        pass\n",
        "\n",
        "    @abstractclassmethod\n",
        "    def fit(self, x_train, y_train):\n",
        "        pass\n",
        "\n",
        "    @abstractclassmethod\n",
        "    def remake(self):\n",
        "        pass\n",
        "        \n",
        "def KFoldTraining(model, X, y):\n",
        "    cv = RepeatedStratifiedKFold(n_splits=10, n_repeats=3)\n",
        "    fold_number = 1\n",
        "\n",
        "    metrics = {}\n",
        "    for metric in model.metrics():\n",
        "        metrics[metric] = []\n",
        "\n",
        "    for train, test in cv.split(X, y):\n",
        "        x_train = X[train]\n",
        "        y_train = y[train]\n",
        "        x_test = X[test]\n",
        "        y_test = y[test]\n",
        "\n",
        "        sd = StandardScaler()\n",
        "        sd.fit(x_train)\n",
        "        x_train = sd.transform(x_train)\n",
        "        x_test = sd.transform(x_test)\n",
        "\n",
        "        model.remake()\n",
        "        model.fit(x_train, y_train)\n",
        "\n",
        "        print(\"------------------------------------------\")\n",
        "        print(\"FOLD NUMBER \" + str(fold_number))\n",
        "        fold_number += 1\n",
        "\n",
        "        training_result = model.evaluate(x_train, y_train)\n",
        "        print(\"Training evaluate results\")\n",
        "        print(training_result)\n",
        "\n",
        "        testing_result = model.evaluate(x_test, y_test)\n",
        "        print(\"Testing evaluate results\")\n",
        "        print(testing_result)\n",
        "\n",
        "        for metric in model.metrics():\n",
        "            metrics[metric].append(testing_result[metric])\n",
        "\n",
        "        print(\"------------------------------------------\")\n",
        "        print(\"\")\n",
        "\n",
        "    for metric in model.metrics():\n",
        "        print('%s: %.3f (%.3f)' % (metric, np.mean(metrics[metric]), np.std(metrics[metric])))"
      ]
    },
    {
      "cell_type": "markdown",
      "id": "gRMYTp3ht6ST",
      "metadata": {
        "id": "gRMYTp3ht6ST"
      },
      "source": [
        "### Entrenamiento con LinearRegression ###"
      ]
    },
    {
      "cell_type": "code",
      "execution_count": null,
      "id": "c7ae51f2",
      "metadata": {
        "colab": {
          "base_uri": "https://localhost:8080/"
        },
        "id": "c7ae51f2",
        "outputId": "20035e17-4822-4523-c16d-33b067b402c3"
      },
      "outputs": [],
      "source": [
        "from sklearn.linear_model import LinearRegression\n",
        "from sklearn import metrics\n",
        "\n",
        "class LinearRegressionWrapper(ModelWrapper):\n",
        "    def __init__(self):\n",
        "        self.model = LinearRegression()\n",
        "\n",
        "    def evaluate(self, x, y):\n",
        "        y_pred = self.model.predict(x)\n",
        "        return {\n",
        "            'MAE': metrics.mean_absolute_error(y, y_pred),\n",
        "            'MSE': metrics.mean_squared_error(y, y_pred),\n",
        "            'R^2': metrics.r2_score(y,y_pred)\n",
        "        }\n",
        "\n",
        "    def metrics(self):\n",
        "        return ['MAE', 'MSE', 'R^2']\n",
        "\n",
        "    def fit(self, x_train, y_train):\n",
        "        self.model.fit(x_train, y_train)\n",
        "\n",
        "    def remake(self):\n",
        "        self.model = LinearRegression()\n",
        "\n",
        "KFoldTraining(LinearRegressionWrapper(), X, y)"
      ]
    },
    {
      "cell_type": "markdown",
      "id": "d2c19a4a",
      "metadata": {
        "id": "d2c19a4a"
      },
      "source": [
        "### Entrenamiento con SelectFromModel para LinearRegression ###"
      ]
    },
    {
      "cell_type": "code",
      "execution_count": null,
      "id": "0cfdd9f0",
      "metadata": {
        "colab": {
          "base_uri": "https://localhost:8080/"
        },
        "id": "0cfdd9f0",
        "outputId": "14192bd5-1afc-47f5-9edd-070695fcb5df"
      },
      "outputs": [],
      "source": [
        "from sklearn.feature_selection import SelectFromModel\n",
        "\n",
        "class SLFLinearRegressionWrapper(LinearRegressionWrapper):\n",
        "    def __init__(self):\n",
        "        self.model = SelectFromModel(LinearRegression())\n",
        "    \n",
        "    def evaluate(self, x, y):\n",
        "        y_pred = self.model.estimator_.predict(x)\n",
        "        return {\n",
        "            'MAE': metrics.mean_absolute_error(y, y_pred),\n",
        "            'MSE': metrics.mean_squared_error(y, y_pred),\n",
        "            'R^2': metrics.r2_score(y,y_pred)\n",
        "        }\n",
        "\n",
        "    def remake(self):\n",
        "        self.model = SelectFromModel(LinearRegression())\n",
        "\n",
        "KFoldTraining(SLFLinearRegressionWrapper(), X, y)"
      ]
    },
    {
      "cell_type": "markdown",
      "id": "b62bc7ce",
      "metadata": {
        "id": "b62bc7ce"
      },
      "source": [
        "### Entrenamiento con DecisionTreeClassifier ###"
      ]
    },
    {
      "cell_type": "code",
      "execution_count": null,
      "id": "9e66e995",
      "metadata": {
        "colab": {
          "base_uri": "https://localhost:8080/"
        },
        "id": "9e66e995",
        "outputId": "bb9119a9-32d2-4e54-95eb-136ed856da75"
      },
      "outputs": [],
      "source": [
        "from sklearn import tree\n",
        "\n",
        "\n",
        "class DecisionTreeClassifierWrapper(ModelWrapper):\n",
        "    def __init__(self):\n",
        "        self.model = tree.DecisionTreeClassifier()\n",
        "\n",
        "    def evaluate(self, x, y):\n",
        "        y_pred = self.model.predict(x)\n",
        "        return {\n",
        "            'accuracy_score': metrics.accuracy_score(y, y_pred),\n",
        "            'precision_score': metrics.precision_score(y, y_pred, average='micro'),\n",
        "            'recall_score': metrics.recall_score(y, y_pred, average='micro'),\n",
        "            'f1_score': metrics.f1_score(y, y_pred, average='micro'),\n",
        "            'confusion_matrix': metrics.confusion_matrix(y, y_pred)\n",
        "        }\n",
        "\n",
        "    def metrics(self):\n",
        "        return ['accuracy_score', 'precision_score', 'recall_score', 'confusion_matrix']\n",
        "\n",
        "    def fit(self, x_train, y_train):\n",
        "        self.model.fit(x_train, y_train)\n",
        "\n",
        "    def remake(self):\n",
        "        self.model = tree.DecisionTreeClassifier()\n",
        "\n",
        "KFoldTraining(DecisionTreeClassifierWrapper(), X, y)"
      ]
    },
    {
      "cell_type": "markdown",
      "id": "20f79140",
      "metadata": {
        "id": "20f79140"
      },
      "source": [
        "### Pruebas de feature selection ###"
      ]
    },
    {
      "cell_type": "code",
      "execution_count": null,
      "id": "a41cd726",
      "metadata": {
        "id": "a41cd726"
      },
      "outputs": [],
      "source": [
        "m = LinearRegression()\n",
        "m.fit(X,y)\n",
        "#evaluate(m, X, y)\n"
      ]
    },
    {
      "cell_type": "code",
      "execution_count": null,
      "id": "a2276b63",
      "metadata": {
        "id": "a2276b63"
      },
      "outputs": [],
      "source": [
        "# https://scikit-learn.org/stable/modules/feature_selection.html\n",
        "\n",
        "from sklearn.feature_selection import RFECV\n",
        "\n",
        "m = RFECV(LinearRegression())\n",
        "m.fit(X,y)\n",
        "#evaluate(m, X, y)"
      ]
    },
    {
      "cell_type": "code",
      "execution_count": null,
      "id": "e56340c2",
      "metadata": {
        "id": "e56340c2"
      },
      "outputs": [],
      "source": [
        "m.support_"
      ]
    },
    {
      "cell_type": "code",
      "execution_count": null,
      "id": "fcc96004",
      "metadata": {
        "id": "fcc96004"
      },
      "outputs": [],
      "source": [
        "m.ranking_"
      ]
    },
    {
      "cell_type": "code",
      "execution_count": null,
      "id": "0e6001fe",
      "metadata": {
        "id": "0e6001fe"
      },
      "outputs": [],
      "source": [
        "m.get_support(1)"
      ]
    },
    {
      "cell_type": "code",
      "execution_count": null,
      "id": "ba51fe2f",
      "metadata": {
        "id": "ba51fe2f"
      },
      "outputs": [],
      "source": [
        "from sklearn.feature_selection import SelectFromModel\n",
        "\n",
        "m = SelectFromModel(LinearRegression())\n",
        "m.fit(X,y)\n",
        "m.transform(X).shape\n",
        "m.get_support()\n",
        "column_names = X_df.columns[m.get_support()]\n",
        "column_names "
      ]
    },
    {
      "cell_type": "code",
      "execution_count": null,
      "id": "93cd6fc5",
      "metadata": {},
      "outputs": [],
      "source": [
        "m = SelectFromModel(tree.DecisionTreeClassifier())\n",
        "m.fit(X,y)\n",
        "m.transform(X).shape\n",
        "m.get_support()\n",
        "column_names = X_df.columns[m.get_support()]\n",
        "column_names"
      ]
    }
  ],
  "metadata": {
    "colab": {
      "collapsed_sections": [
        "8c90bb68",
        "QFbrzX2awve5",
        "af6c5474",
        "rTdOqEEmt_Zy",
        "gRMYTp3ht6ST",
        "d2c19a4a",
        "b62bc7ce",
        "20f79140"
      ],
      "name": "MicroMetrics-Training.ipynb",
      "provenance": []
    },
    "kernelspec": {
      "display_name": "Python 3 (ipykernel)",
      "language": "python",
      "name": "python3"
    },
    "language_info": {
      "codemirror_mode": {
        "name": "ipython",
        "version": 3
      },
      "file_extension": ".py",
      "mimetype": "text/x-python",
      "name": "python",
      "nbconvert_exporter": "python",
      "pygments_lexer": "ipython3",
      "version": "3.8.10"
    }
  },
  "nbformat": 4,
  "nbformat_minor": 5
}
